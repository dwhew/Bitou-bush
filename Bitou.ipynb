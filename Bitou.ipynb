{
  "nbformat": 4,
  "nbformat_minor": 0,
  "metadata": {
    "colab": {
      "name": "Bitou.ipynb",
      "provenance": [],
      "collapsed_sections": [],
      "authorship_tag": "ABX9TyNJ5YRqjh2y+kLAlSZlOxfD",
      "include_colab_link": true
    },
    "kernelspec": {
      "name": "python3",
      "display_name": "Python 3"
    }
  },
  "cells": [
    {
      "cell_type": "markdown",
      "metadata": {
        "id": "view-in-github",
        "colab_type": "text"
      },
      "source": [
        "<a href=\"https://colab.research.google.com/github/dwhew/Bitou-bush/blob/main/Bitou.ipynb\" target=\"_parent\"><img src=\"https://colab.research.google.com/assets/colab-badge.svg\" alt=\"Open In Colab\"/></a>"
      ]
    },
    {
      "cell_type": "code",
      "metadata": {
        "id": "BCNen5zXE3ak"
      },
      "source": [
        "!pip install geopandas\r\n"
      ],
      "execution_count": 20,
      "outputs": []
    },
    {
      "cell_type": "code",
      "metadata": {
        "id": "GxynoPCTEU1R"
      },
      "source": [
        "import geopandas as gpd\r\n",
        "import pandas as pd\r\n",
        "from shapely import wkt"
      ],
      "execution_count": 35,
      "outputs": []
    },
    {
      "cell_type": "code",
      "metadata": {
        "colab": {
          "base_uri": "https://localhost:8080/",
          "height": 450
        },
        "id": "fDlUYOGJEcca",
        "outputId": "52fa6e5b-f2ef-4181-ab00-8277d87adcb6"
      },
      "source": [
        "#strangly Geopandas could not read the csv so I used pandas \r\n",
        "s = pd.read_csv(r'https://raw.githubusercontent.com/dwhew/Bitou-bush/main/bitou.csv', index_col='FID') \r\n",
        "#geopandas also cannot read the geomery properly, so I had to convert it manually to a GeoSeries\r\n",
        "s['geometry'] = s['geometry'].apply(wkt.loads)\r\n",
        "#and then converted to geopandas\r\n",
        "df = gpd.GeoDataFrame(s)\r\n",
        "df"
      ],
      "execution_count": 40,
      "outputs": [
        {
          "output_type": "execute_result",
          "data": {
            "text/html": [
              "<div>\n",
              "<style scoped>\n",
              "    .dataframe tbody tr th:only-of-type {\n",
              "        vertical-align: middle;\n",
              "    }\n",
              "\n",
              "    .dataframe tbody tr th {\n",
              "        vertical-align: top;\n",
              "    }\n",
              "\n",
              "    .dataframe thead th {\n",
              "        text-align: right;\n",
              "    }\n",
              "</style>\n",
              "<table border=\"1\" class=\"dataframe\">\n",
              "  <thead>\n",
              "    <tr style=\"text-align: right;\">\n",
              "      <th></th>\n",
              "      <th>geometry</th>\n",
              "      <th>Activity</th>\n",
              "      <th>ActivityDa</th>\n",
              "      <th>ComName</th>\n",
              "      <th>MonYr</th>\n",
              "      <th>FinYr</th>\n",
              "      <th>Detection1</th>\n",
              "      <th>Date_S</th>\n",
              "    </tr>\n",
              "    <tr>\n",
              "      <th>FID</th>\n",
              "      <th></th>\n",
              "      <th></th>\n",
              "      <th></th>\n",
              "      <th></th>\n",
              "      <th></th>\n",
              "      <th></th>\n",
              "      <th></th>\n",
              "      <th></th>\n",
              "    </tr>\n",
              "  </thead>\n",
              "  <tbody>\n",
              "    <tr>\n",
              "      <th>0</th>\n",
              "      <td>POINT Z (153.13481 -26.71795 0.00000)</td>\n",
              "      <td>Infestation</td>\n",
              "      <td>1/03/2015</td>\n",
              "      <td>Bitou bush</td>\n",
              "      <td>2015-03</td>\n",
              "      <td>2014 - 2015</td>\n",
              "      <td>&lt;Null&gt;</td>\n",
              "      <td>Jan15_Jun15</td>\n",
              "    </tr>\n",
              "    <tr>\n",
              "      <th>1</th>\n",
              "      <td>POINT Z (153.43067 -27.31563 0.00000)</td>\n",
              "      <td>Infestation</td>\n",
              "      <td>25/03/2015</td>\n",
              "      <td>Bitou bush</td>\n",
              "      <td>2015-03</td>\n",
              "      <td>2014 - 2015</td>\n",
              "      <td>&lt;Null&gt;</td>\n",
              "      <td>Jan15_Jun15</td>\n",
              "    </tr>\n",
              "    <tr>\n",
              "      <th>2</th>\n",
              "      <td>POINT Z (153.42508 -27.30358 0.00000)</td>\n",
              "      <td>Infestation</td>\n",
              "      <td>25/03/2015</td>\n",
              "      <td>Bitou bush</td>\n",
              "      <td>2015-03</td>\n",
              "      <td>2014 - 2015</td>\n",
              "      <td>&lt;Null&gt;</td>\n",
              "      <td>Jan15_Jun15</td>\n",
              "    </tr>\n",
              "    <tr>\n",
              "      <th>3</th>\n",
              "      <td>POINT Z (153.11057 -25.56516 0.00000)</td>\n",
              "      <td>Infestation</td>\n",
              "      <td>1/05/2015</td>\n",
              "      <td>Bitou bush</td>\n",
              "      <td>2015-05</td>\n",
              "      <td>2014 - 2015</td>\n",
              "      <td>&lt;Null&gt;</td>\n",
              "      <td>Jan15_Jun15</td>\n",
              "    </tr>\n",
              "    <tr>\n",
              "      <th>4</th>\n",
              "      <td>POINT Z (153.08553 -25.76300 0.00000)</td>\n",
              "      <td>Infestation</td>\n",
              "      <td>29/04/2015</td>\n",
              "      <td>Bitou bush</td>\n",
              "      <td>2015-04</td>\n",
              "      <td>2014 - 2015</td>\n",
              "      <td>&lt;Null&gt;</td>\n",
              "      <td>Jan15_Jun15</td>\n",
              "    </tr>\n",
              "    <tr>\n",
              "      <th>...</th>\n",
              "      <td>...</td>\n",
              "      <td>...</td>\n",
              "      <td>...</td>\n",
              "      <td>...</td>\n",
              "      <td>...</td>\n",
              "      <td>...</td>\n",
              "      <td>...</td>\n",
              "      <td>...</td>\n",
              "    </tr>\n",
              "    <tr>\n",
              "      <th>2455</th>\n",
              "      <td>POINT Z (153.43967 -27.76958 0.00000)</td>\n",
              "      <td>Survey</td>\n",
              "      <td>8/07/2020</td>\n",
              "      <td>Bitou bush</td>\n",
              "      <td>NaN</td>\n",
              "      <td>2019 - 2020</td>\n",
              "      <td>8/07/2020</td>\n",
              "      <td>Jan20 - Jun20</td>\n",
              "    </tr>\n",
              "    <tr>\n",
              "      <th>2456</th>\n",
              "      <td>POINT Z (153.43592 -27.78790 0.00000)</td>\n",
              "      <td>Survey</td>\n",
              "      <td>8/07/2020</td>\n",
              "      <td>Bitou bush</td>\n",
              "      <td>NaN</td>\n",
              "      <td>2019 - 2020</td>\n",
              "      <td>8/07/2020</td>\n",
              "      <td>Jan20 - Jun20</td>\n",
              "    </tr>\n",
              "    <tr>\n",
              "      <th>2457</th>\n",
              "      <td>POINT Z (153.43988 -27.77067 0.00000)</td>\n",
              "      <td>Survey</td>\n",
              "      <td>8/07/2020</td>\n",
              "      <td>Bitou bush</td>\n",
              "      <td>NaN</td>\n",
              "      <td>2019 - 2020</td>\n",
              "      <td>8/07/2020</td>\n",
              "      <td>Jan20 - Jun20</td>\n",
              "    </tr>\n",
              "    <tr>\n",
              "      <th>2458</th>\n",
              "      <td>POINT Z (153.44021 -27.77354 0.00000)</td>\n",
              "      <td>Survey</td>\n",
              "      <td>8/07/2020</td>\n",
              "      <td>Bitou bush</td>\n",
              "      <td>NaN</td>\n",
              "      <td>2019 - 2020</td>\n",
              "      <td>8/07/2020</td>\n",
              "      <td>Jan20 - Jun20</td>\n",
              "    </tr>\n",
              "    <tr>\n",
              "      <th>2459</th>\n",
              "      <td>POINT Z (153.43610 -27.78778 0.00000)</td>\n",
              "      <td>Survey</td>\n",
              "      <td>8/07/2020</td>\n",
              "      <td>Bitou bush</td>\n",
              "      <td>NaN</td>\n",
              "      <td>2019 - 2020</td>\n",
              "      <td>8/07/2020</td>\n",
              "      <td>Jan20 - Jun20</td>\n",
              "    </tr>\n",
              "  </tbody>\n",
              "</table>\n",
              "<p>2460 rows × 8 columns</p>\n",
              "</div>"
            ],
            "text/plain": [
              "                                   geometry  ...         Date_S\n",
              "FID                                          ...               \n",
              "0     POINT Z (153.13481 -26.71795 0.00000)  ...    Jan15_Jun15\n",
              "1     POINT Z (153.43067 -27.31563 0.00000)  ...    Jan15_Jun15\n",
              "2     POINT Z (153.42508 -27.30358 0.00000)  ...    Jan15_Jun15\n",
              "3     POINT Z (153.11057 -25.56516 0.00000)  ...    Jan15_Jun15\n",
              "4     POINT Z (153.08553 -25.76300 0.00000)  ...    Jan15_Jun15\n",
              "...                                     ...  ...            ...\n",
              "2455  POINT Z (153.43967 -27.76958 0.00000)  ...  Jan20 - Jun20\n",
              "2456  POINT Z (153.43592 -27.78790 0.00000)  ...  Jan20 - Jun20\n",
              "2457  POINT Z (153.43988 -27.77067 0.00000)  ...  Jan20 - Jun20\n",
              "2458  POINT Z (153.44021 -27.77354 0.00000)  ...  Jan20 - Jun20\n",
              "2459  POINT Z (153.43610 -27.78778 0.00000)  ...  Jan20 - Jun20\n",
              "\n",
              "[2460 rows x 8 columns]"
            ]
          },
          "metadata": {
            "tags": []
          },
          "execution_count": 40
        }
      ]
    },
    {
      "cell_type": "code",
      "metadata": {
        "colab": {
          "base_uri": "https://localhost:8080/"
        },
        "id": "JtmyffMRYjz6",
        "outputId": "a0b7d807-53db-4762-8e31-a1d6d668bbf9"
      },
      "source": [
        "type(df['geometry'])"
      ],
      "execution_count": 41,
      "outputs": [
        {
          "output_type": "execute_result",
          "data": {
            "text/plain": [
              "geopandas.geoseries.GeoSeries"
            ]
          },
          "metadata": {
            "tags": []
          },
          "execution_count": 41
        }
      ]
    },
    {
      "cell_type": "code",
      "metadata": {
        "colab": {
          "base_uri": "https://localhost:8080/"
        },
        "id": "vE2UdCpD6peF",
        "outputId": "bb9a1b2e-7948-49d5-afc0-f73c02603e7b"
      },
      "source": [
        "df['Activity'].unique()\r\n",
        "\r\n",
        "#this is interessting, this might make it hard to work out what bushes are present at one time and which entries are the same bush \r\n"
      ],
      "execution_count": 21,
      "outputs": [
        {
          "output_type": "execute_result",
          "data": {
            "text/plain": [
              "array(['Infestation', 'Treatment', 'InfestTreat', 'Survey'], dtype=object)"
            ]
          },
          "metadata": {
            "tags": []
          },
          "execution_count": 21
        }
      ]
    },
    {
      "cell_type": "code",
      "metadata": {
        "colab": {
          "base_uri": "https://localhost:8080/",
          "height": 1000
        },
        "id": "fVPxISl060e7",
        "outputId": "8f8b4934-dbde-4074-aa55-3a63b43485b9"
      },
      "source": [
        "df.plot(df['Activity'] == 'Infestation', figsize=(20, 20))"
      ],
      "execution_count": 42,
      "outputs": [
        {
          "output_type": "execute_result",
          "data": {
            "text/plain": [
              "<matplotlib.axes._subplots.AxesSubplot at 0x7f2a7d2a6a90>"
            ]
          },
          "metadata": {
            "tags": []
          },
          "execution_count": 42
        },
        {
          "output_type": "display_data",
          "data": {
            "image/png": "[encoded data removed]",
            "text/plain": [
              "<Figure size 1440x1440 with 1 Axes>"
            ]
          },
          "metadata": {
            "tags": [],
            "needs_background": "light"
          }
        }
      ]
    },
    {
      "cell_type": "code",
      "metadata": {
        "id": "qgAJ7kGTXl9X"
      },
      "source": [
        ""
      ],
      "execution_count": null,
      "outputs": []
    }
  ]
}