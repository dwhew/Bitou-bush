{
  "nbformat": 4,
  "nbformat_minor": 0,
  "metadata": {
    "kernelspec": {
      "display_name": "Python 3",
      "language": "python",
      "name": "python3"
    },
    "language_info": {
      "codemirror_mode": {
        "name": "ipython",
        "version": 3
      },
      "file_extension": ".py",
      "mimetype": "text/x-python",
      "name": "python",
      "nbconvert_exporter": "python",
      "pygments_lexer": "ipython3",
      "version": "3.8.6"
    },
    "colab": {
      "name": "bitou_read.ipynb",
      "provenance": [],
      "collapsed_sections": [],
      "include_colab_link": true
    }
  },
  "cells": [
    {
      "cell_type": "markdown",
      "metadata": {
        "id": "view-in-github",
        "colab_type": "text"
      },
      "source": [
        "<a href=\"https://colab.research.google.com/github/dwhew/Bitou-bush/blob/main/bitou_read.ipynb\" target=\"_parent\"><img src=\"https://colab.research.google.com/assets/colab-badge.svg\" alt=\"Open In Colab\"/></a>"
      ]
    },
    {
      "cell_type": "code",
      "metadata": {
        "id": "mrTGxM-z2J7Q"
      },
      "source": [
        "!pip install geopandas"
      ],
      "execution_count": null,
      "outputs": []
    },
    {
      "cell_type": "code",
      "metadata": {
        "id": "IRWCt0yQ0OpL"
      },
      "source": [
        "import pandas as pd\n",
        "import geopandas as gpd\n",
        "import fiona\n"
      ],
      "execution_count": null,
      "outputs": []
    },
    {
      "cell_type": "code",
      "metadata": {
        "scrolled": true,
        "id": "2qojLtPN0Opg"
      },
      "source": [
        "#use fiona to help read geopandas read the file\n",
        "# notice the description column is html\n",
        "\n",
        "gpd.io.file.fiona.drvsupport.supported_drivers['KML'] = 'rw'\n",
        "df = gpd.read_file(r'https://raw.githubusercontent.com/dwhew/Bitou-bush/main/AllBitou20b.kml', driver='KML')\n",
        "df"
      ],
      "execution_count": null,
      "outputs": []
    },
    {
      "cell_type": "code",
      "metadata": {
        "scrolled": true,
        "id": "OcfC896l0Opn",
        "colab": {
          "base_uri": "https://localhost:8080/",
          "height": 120
        },
        "outputId": "5c3fec36-9561-4719-c426-30f00a389188"
      },
      "source": [
        "#again showing the html string in 'Description'\n",
        "df['Description'][0]"
      ],
      "execution_count": null,
      "outputs": [
        {
          "output_type": "execute_result",
          "data": {
            "application/vnd.google.colaboratory.intrinsic+json": {
              "type": "string"
            },
            "text/plain": [
              "'<html xmlns:fo=\"http://www.w3.org/1999/XSL/Format\" xmlns:msxsl=\"urn:schemas-microsoft-com:xslt\"> <head> <META http-equiv=\"Content-Type\" content=\"text/html\"> <meta http-equiv=\"content-type\" content=\"text/html; charset=UTF-8\"> </head> <body style=\"margin:0px 0px 0px 0px;overflow:auto;background:#FFFFFF;\"> <table style=\"font-family:Arial,Verdana,Times;font-size:12px;text-align:left;width:100%;border-collapse:collapse;padding:3px 3px 3px 3px\"> <tr style=\"text-align:center;font-weight:bold;background:#9CBCE2\"> <td>Bitou bush</td> </tr> <tr> <td> <table style=\"font-family:Arial,Verdana,Times;font-size:12px;text-align:left;width:100%;border-spacing:0px; padding:3px 3px 3px 3px\"> <tr> <td>FID</td> <td>0</td> </tr> <tr bgcolor=\"#D4E4F3\"> <td>Activity</td> <td>Infestation</td> </tr> <tr> <td>ActivityDa</td> <td>1/03/2015</td> </tr> <tr bgcolor=\"#D4E4F3\"> <td>ComName</td> <td>Bitou bush</td> </tr> <tr> <td>MonYr</td> <td>2015-03</td> </tr> <tr bgcolor=\"#D4E4F3\"> <td>FinYr</td> <td>2014 - 2015</td> </tr> <tr> <td>Detection1</td> <td>&lt;Null&gt;</td> </tr> <tr bgcolor=\"#D4E4F3\"> <td>Date_S</td> <td>Jan15_Jun15</td> </tr> </table> </td> </tr> </table> </body> </html>'"
            ]
          },
          "metadata": {
            "tags": []
          },
          "execution_count": 5
        }
      ]
    },
    {
      "cell_type": "code",
      "metadata": {
        "id": "-lZZb5rN0Opp"
      },
      "source": [
        "# create new df for the parsing to append to\n",
        "\n",
        "desc_df = gpd.GeoDataFrame({ \n",
        " 'FID':[''],\n",
        " 'Activity':[''],\n",
        " 'ActivityDa':[''],\n",
        " 'ComName':[''],\n",
        " 'MonYr':[''],\n",
        " 'FinYr':[''],\n",
        " 'Detection1':[''],\n",
        " 'Date_S':['']\n",
        "})"
      ],
      "execution_count": null,
      "outputs": []
    },
    {
      "cell_type": "code",
      "metadata": {
        "id": "1fFKQ-hS0Opq"
      },
      "source": [
        "# this loop will interate to parse all in descriptions, take the usefull information and append to desc_df\n",
        "\n",
        "for string in df['Description']:\n",
        "    \n",
        "    s = pd.read_html(string)   #read string\n",
        "    s = s[1]                   #take just the html table (not the other  )\n",
        "    s = s.T                    #transpose\n",
        "    s.columns = s.iloc[0]      #assign the first row as the colum headers\n",
        "    \n",
        "    desc_df = desc_df.append(s.iloc[1])  #append only the values (keys are already provided above)\n",
        "    "
      ],
      "execution_count": null,
      "outputs": []
    },
    {
      "cell_type": "code",
      "metadata": {
        "scrolled": true,
        "id": "F0MdkkNJ0Opr"
      },
      "source": [
        "#a little more formatting and join back to original df\n",
        "\n",
        "desc_df = desc_df.drop(0)                  #not sure why the first row was blank\n",
        "desc_df.index = df.index                   #harmonaise the indexes\n",
        "desc_df = desc_df.drop(columns=['FID'])   \n",
        "\n",
        "df = pd.concat([df, desc_df], axis=1)\n",
        "\n",
        "df = df.drop(columns=['Description', 'Name', 'ComName'])\n",
        "\n"
      ],
      "execution_count": null,
      "outputs": []
    },
    {
      "cell_type": "code",
      "metadata": {
        "id": "ME4QAxHCR9zl"
      },
      "source": [
        "#these will be needed for folium\r\n",
        "df['lon'] = df['geometry'].x\r\n",
        "df['lat'] = df['geometry'].y"
      ],
      "execution_count": null,
      "outputs": []
    },
    {
      "cell_type": "code",
      "metadata": {
        "id": "TXV6SMgYR_uM",
        "colab": {
          "base_uri": "https://localhost:8080/",
          "height": 419
        },
        "outputId": "4508c9d0-9e82-472a-8e7c-11a0fd6ea427"
      },
      "source": [
        "df"
      ],
      "execution_count": null,
      "outputs": [
        {
          "output_type": "execute_result",
          "data": {
            "text/html": [
              "<div>\n",
              "<style scoped>\n",
              "    .dataframe tbody tr th:only-of-type {\n",
              "        vertical-align: middle;\n",
              "    }\n",
              "\n",
              "    .dataframe tbody tr th {\n",
              "        vertical-align: top;\n",
              "    }\n",
              "\n",
              "    .dataframe thead th {\n",
              "        text-align: right;\n",
              "    }\n",
              "</style>\n",
              "<table border=\"1\" class=\"dataframe\">\n",
              "  <thead>\n",
              "    <tr style=\"text-align: right;\">\n",
              "      <th></th>\n",
              "      <th>geometry</th>\n",
              "      <th>Activity</th>\n",
              "      <th>ActivityDa</th>\n",
              "      <th>MonYr</th>\n",
              "      <th>FinYr</th>\n",
              "      <th>Detection1</th>\n",
              "      <th>Date_S</th>\n",
              "      <th>lon</th>\n",
              "      <th>lat</th>\n",
              "    </tr>\n",
              "  </thead>\n",
              "  <tbody>\n",
              "    <tr>\n",
              "      <th>0</th>\n",
              "      <td>POINT Z (153.13481 -26.71795 0.00000)</td>\n",
              "      <td>Infestation</td>\n",
              "      <td>1/03/2015</td>\n",
              "      <td>2015-03</td>\n",
              "      <td>2014 - 2015</td>\n",
              "      <td>&lt;Null&gt;</td>\n",
              "      <td>Jan15_Jun15</td>\n",
              "      <td>153.134807</td>\n",
              "      <td>-26.717955</td>\n",
              "    </tr>\n",
              "    <tr>\n",
              "      <th>1</th>\n",
              "      <td>POINT Z (153.43067 -27.31563 0.00000)</td>\n",
              "      <td>Infestation</td>\n",
              "      <td>25/03/2015</td>\n",
              "      <td>2015-03</td>\n",
              "      <td>2014 - 2015</td>\n",
              "      <td>&lt;Null&gt;</td>\n",
              "      <td>Jan15_Jun15</td>\n",
              "      <td>153.430668</td>\n",
              "      <td>-27.315630</td>\n",
              "    </tr>\n",
              "    <tr>\n",
              "      <th>2</th>\n",
              "      <td>POINT Z (153.42508 -27.30358 0.00000)</td>\n",
              "      <td>Infestation</td>\n",
              "      <td>25/03/2015</td>\n",
              "      <td>2015-03</td>\n",
              "      <td>2014 - 2015</td>\n",
              "      <td>&lt;Null&gt;</td>\n",
              "      <td>Jan15_Jun15</td>\n",
              "      <td>153.425080</td>\n",
              "      <td>-27.303577</td>\n",
              "    </tr>\n",
              "    <tr>\n",
              "      <th>3</th>\n",
              "      <td>POINT Z (153.11057 -25.56516 0.00000)</td>\n",
              "      <td>Infestation</td>\n",
              "      <td>1/05/2015</td>\n",
              "      <td>2015-05</td>\n",
              "      <td>2014 - 2015</td>\n",
              "      <td>&lt;Null&gt;</td>\n",
              "      <td>Jan15_Jun15</td>\n",
              "      <td>153.110568</td>\n",
              "      <td>-25.565162</td>\n",
              "    </tr>\n",
              "    <tr>\n",
              "      <th>4</th>\n",
              "      <td>POINT Z (153.08553 -25.76300 0.00000)</td>\n",
              "      <td>Infestation</td>\n",
              "      <td>29/04/2015</td>\n",
              "      <td>2015-04</td>\n",
              "      <td>2014 - 2015</td>\n",
              "      <td>&lt;Null&gt;</td>\n",
              "      <td>Jan15_Jun15</td>\n",
              "      <td>153.085534</td>\n",
              "      <td>-25.763001</td>\n",
              "    </tr>\n",
              "    <tr>\n",
              "      <th>...</th>\n",
              "      <td>...</td>\n",
              "      <td>...</td>\n",
              "      <td>...</td>\n",
              "      <td>...</td>\n",
              "      <td>...</td>\n",
              "      <td>...</td>\n",
              "      <td>...</td>\n",
              "      <td>...</td>\n",
              "      <td>...</td>\n",
              "    </tr>\n",
              "    <tr>\n",
              "      <th>2455</th>\n",
              "      <td>POINT Z (153.43967 -27.76958 0.00000)</td>\n",
              "      <td>Survey</td>\n",
              "      <td>8/07/2020</td>\n",
              "      <td>NaN</td>\n",
              "      <td>2019 - 2020</td>\n",
              "      <td>8/07/2020</td>\n",
              "      <td>Jan20 - Jun20</td>\n",
              "      <td>153.439668</td>\n",
              "      <td>-27.769584</td>\n",
              "    </tr>\n",
              "    <tr>\n",
              "      <th>2456</th>\n",
              "      <td>POINT Z (153.43592 -27.78790 0.00000)</td>\n",
              "      <td>Survey</td>\n",
              "      <td>8/07/2020</td>\n",
              "      <td>NaN</td>\n",
              "      <td>2019 - 2020</td>\n",
              "      <td>8/07/2020</td>\n",
              "      <td>Jan20 - Jun20</td>\n",
              "      <td>153.435918</td>\n",
              "      <td>-27.787899</td>\n",
              "    </tr>\n",
              "    <tr>\n",
              "      <th>2457</th>\n",
              "      <td>POINT Z (153.43988 -27.77067 0.00000)</td>\n",
              "      <td>Survey</td>\n",
              "      <td>8/07/2020</td>\n",
              "      <td>NaN</td>\n",
              "      <td>2019 - 2020</td>\n",
              "      <td>8/07/2020</td>\n",
              "      <td>Jan20 - Jun20</td>\n",
              "      <td>153.439884</td>\n",
              "      <td>-27.770671</td>\n",
              "    </tr>\n",
              "    <tr>\n",
              "      <th>2458</th>\n",
              "      <td>POINT Z (153.44021 -27.77354 0.00000)</td>\n",
              "      <td>Survey</td>\n",
              "      <td>8/07/2020</td>\n",
              "      <td>NaN</td>\n",
              "      <td>2019 - 2020</td>\n",
              "      <td>8/07/2020</td>\n",
              "      <td>Jan20 - Jun20</td>\n",
              "      <td>153.440209</td>\n",
              "      <td>-27.773540</td>\n",
              "    </tr>\n",
              "    <tr>\n",
              "      <th>2459</th>\n",
              "      <td>POINT Z (153.43610 -27.78778 0.00000)</td>\n",
              "      <td>Survey</td>\n",
              "      <td>8/07/2020</td>\n",
              "      <td>NaN</td>\n",
              "      <td>2019 - 2020</td>\n",
              "      <td>8/07/2020</td>\n",
              "      <td>Jan20 - Jun20</td>\n",
              "      <td>153.436103</td>\n",
              "      <td>-27.787779</td>\n",
              "    </tr>\n",
              "  </tbody>\n",
              "</table>\n",
              "<p>2460 rows × 9 columns</p>\n",
              "</div>"
            ],
            "text/plain": [
              "                                   geometry     Activity  ...         lon        lat\n",
              "0     POINT Z (153.13481 -26.71795 0.00000)  Infestation  ...  153.134807 -26.717955\n",
              "1     POINT Z (153.43067 -27.31563 0.00000)  Infestation  ...  153.430668 -27.315630\n",
              "2     POINT Z (153.42508 -27.30358 0.00000)  Infestation  ...  153.425080 -27.303577\n",
              "3     POINT Z (153.11057 -25.56516 0.00000)  Infestation  ...  153.110568 -25.565162\n",
              "4     POINT Z (153.08553 -25.76300 0.00000)  Infestation  ...  153.085534 -25.763001\n",
              "...                                     ...          ...  ...         ...        ...\n",
              "2455  POINT Z (153.43967 -27.76958 0.00000)       Survey  ...  153.439668 -27.769584\n",
              "2456  POINT Z (153.43592 -27.78790 0.00000)       Survey  ...  153.435918 -27.787899\n",
              "2457  POINT Z (153.43988 -27.77067 0.00000)       Survey  ...  153.439884 -27.770671\n",
              "2458  POINT Z (153.44021 -27.77354 0.00000)       Survey  ...  153.440209 -27.773540\n",
              "2459  POINT Z (153.43610 -27.78778 0.00000)       Survey  ...  153.436103 -27.787779\n",
              "\n",
              "[2460 rows x 9 columns]"
            ]
          },
          "metadata": {
            "tags": []
          },
          "execution_count": 10
        }
      ]
    },
    {
      "cell_type": "code",
      "metadata": {
        "id": "OQd1J6YORZMf"
      },
      "source": [
        "df.to_csv('bitou.csv', index_label='FID')\r\n"
      ],
      "execution_count": null,
      "outputs": []
    }
  ]
}