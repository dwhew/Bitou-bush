{
  "nbformat": 4,
  "nbformat_minor": 0,
  "metadata": {
    "kernelspec": {
      "display_name": "Python 3",
      "language": "python",
      "name": "python3"
    },
    "language_info": {
      "codemirror_mode": {
        "name": "ipython",
        "version": 3
      },
      "file_extension": ".py",
      "mimetype": "text/x-python",
      "name": "python",
      "nbconvert_exporter": "python",
      "pygments_lexer": "ipython3",
      "version": "3.8.6"
    },
    "colab": {
      "name": "bitou_read.ipynb",
      "provenance": [],
      "collapsed_sections": [],
      "include_colab_link": true
    }
  },
  "cells": [
    {
      "cell_type": "markdown",
      "metadata": {
        "id": "view-in-github",
        "colab_type": "text"
      },
      "source": [
        "<a href=\"https://colab.research.google.com/github/dwhew/Bitou-bush/blob/main/bitou_read.ipynb\" target=\"_parent\"><img src=\"https://colab.research.google.com/assets/colab-badge.svg\" alt=\"Open In Colab\"/></a>"
      ]
    },
    {
      "cell_type": "code",
      "metadata": {
        "id": "mrTGxM-z2J7Q"
      },
      "source": [
        "!pip install geopandas"
      ],
      "execution_count": null,
      "outputs": []
    },
    {
      "cell_type": "code",
      "metadata": {
        "id": "IRWCt0yQ0OpL"
      },
      "source": [
        "import pandas as pd\n",
        "import geopandas as gpd\n",
        "import fiona\n"
      ],
      "execution_count": null,
      "outputs": []
    },
    {
      "cell_type": "code",
      "metadata": {
        "scrolled": true,
        "id": "2qojLtPN0Opg",
        "colab": {
          "base_uri": "https://localhost:8080/",
          "height": 453
        },
        "outputId": "94291785-75a2-4211-ac0c-6a2e276286be"
      },
      "source": [
        "#use fiona to help read geopandas read the file\n",
        "# notice the description column is html\n",
        "\n",
        "gpd.io.file.fiona.drvsupport.supported_drivers['KML'] = 'rw'\n",
        "df = gpd.read_file(r'https://raw.githubusercontent.com/dwhew/Bitou-bush/main/AllBitou20b.kml', driver='KML')\n",
        "df"
      ],
      "execution_count": null,
      "outputs": [
        {
          "output_type": "stream",
          "text": [
            "/usr/local/lib/python3.6/dist-packages/geopandas/geodataframe.py:422: RuntimeWarning: Sequential read of iterator was interrupted. Resetting iterator. This can negatively impact the performance.\n",
            "  for feature in features_lst:\n"
          ],
          "name": "stderr"
        },
        {
          "output_type": "execute_result",
          "data": {
            "text/html": [
              "<div>\n",
              "<style scoped>\n",
              "    .dataframe tbody tr th:only-of-type {\n",
              "        vertical-align: middle;\n",
              "    }\n",
              "\n",
              "    .dataframe tbody tr th {\n",
              "        vertical-align: top;\n",
              "    }\n",
              "\n",
              "    .dataframe thead th {\n",
              "        text-align: right;\n",
              "    }\n",
              "</style>\n",
              "<table border=\"1\" class=\"dataframe\">\n",
              "  <thead>\n",
              "    <tr style=\"text-align: right;\">\n",
              "      <th></th>\n",
              "      <th>Name</th>\n",
              "      <th>Description</th>\n",
              "      <th>geometry</th>\n",
              "    </tr>\n",
              "  </thead>\n",
              "  <tbody>\n",
              "    <tr>\n",
              "      <th>0</th>\n",
              "      <td>Bitou bush</td>\n",
              "      <td>&lt;html xmlns:fo=\"http://www.w3.org/1999/XSL/For...</td>\n",
              "      <td>POINT Z (153.13481 -26.71795 0.00000)</td>\n",
              "    </tr>\n",
              "    <tr>\n",
              "      <th>1</th>\n",
              "      <td>Bitou bush</td>\n",
              "      <td>&lt;html xmlns:fo=\"http://www.w3.org/1999/XSL/For...</td>\n",
              "      <td>POINT Z (153.43067 -27.31563 0.00000)</td>\n",
              "    </tr>\n",
              "    <tr>\n",
              "      <th>2</th>\n",
              "      <td>Bitou bush</td>\n",
              "      <td>&lt;html xmlns:fo=\"http://www.w3.org/1999/XSL/For...</td>\n",
              "      <td>POINT Z (153.42508 -27.30358 0.00000)</td>\n",
              "    </tr>\n",
              "    <tr>\n",
              "      <th>3</th>\n",
              "      <td>Bitou bush</td>\n",
              "      <td>&lt;html xmlns:fo=\"http://www.w3.org/1999/XSL/For...</td>\n",
              "      <td>POINT Z (153.11057 -25.56516 0.00000)</td>\n",
              "    </tr>\n",
              "    <tr>\n",
              "      <th>4</th>\n",
              "      <td>Bitou bush</td>\n",
              "      <td>&lt;html xmlns:fo=\"http://www.w3.org/1999/XSL/For...</td>\n",
              "      <td>POINT Z (153.08553 -25.76300 0.00000)</td>\n",
              "    </tr>\n",
              "    <tr>\n",
              "      <th>...</th>\n",
              "      <td>...</td>\n",
              "      <td>...</td>\n",
              "      <td>...</td>\n",
              "    </tr>\n",
              "    <tr>\n",
              "      <th>2455</th>\n",
              "      <td>Bitou bush</td>\n",
              "      <td>&lt;html xmlns:fo=\"http://www.w3.org/1999/XSL/For...</td>\n",
              "      <td>POINT Z (153.43967 -27.76958 0.00000)</td>\n",
              "    </tr>\n",
              "    <tr>\n",
              "      <th>2456</th>\n",
              "      <td>Bitou bush</td>\n",
              "      <td>&lt;html xmlns:fo=\"http://www.w3.org/1999/XSL/For...</td>\n",
              "      <td>POINT Z (153.43592 -27.78790 0.00000)</td>\n",
              "    </tr>\n",
              "    <tr>\n",
              "      <th>2457</th>\n",
              "      <td>Bitou bush</td>\n",
              "      <td>&lt;html xmlns:fo=\"http://www.w3.org/1999/XSL/For...</td>\n",
              "      <td>POINT Z (153.43988 -27.77067 0.00000)</td>\n",
              "    </tr>\n",
              "    <tr>\n",
              "      <th>2458</th>\n",
              "      <td>Bitou bush</td>\n",
              "      <td>&lt;html xmlns:fo=\"http://www.w3.org/1999/XSL/For...</td>\n",
              "      <td>POINT Z (153.44021 -27.77354 0.00000)</td>\n",
              "    </tr>\n",
              "    <tr>\n",
              "      <th>2459</th>\n",
              "      <td>Bitou bush</td>\n",
              "      <td>&lt;html xmlns:fo=\"http://www.w3.org/1999/XSL/For...</td>\n",
              "      <td>POINT Z (153.43610 -27.78778 0.00000)</td>\n",
              "    </tr>\n",
              "  </tbody>\n",
              "</table>\n",
              "<p>2460 rows × 3 columns</p>\n",
              "</div>"
            ],
            "text/plain": [
              "            Name  ...                               geometry\n",
              "0     Bitou bush  ...  POINT Z (153.13481 -26.71795 0.00000)\n",
              "1     Bitou bush  ...  POINT Z (153.43067 -27.31563 0.00000)\n",
              "2     Bitou bush  ...  POINT Z (153.42508 -27.30358 0.00000)\n",
              "3     Bitou bush  ...  POINT Z (153.11057 -25.56516 0.00000)\n",
              "4     Bitou bush  ...  POINT Z (153.08553 -25.76300 0.00000)\n",
              "...          ...  ...                                    ...\n",
              "2455  Bitou bush  ...  POINT Z (153.43967 -27.76958 0.00000)\n",
              "2456  Bitou bush  ...  POINT Z (153.43592 -27.78790 0.00000)\n",
              "2457  Bitou bush  ...  POINT Z (153.43988 -27.77067 0.00000)\n",
              "2458  Bitou bush  ...  POINT Z (153.44021 -27.77354 0.00000)\n",
              "2459  Bitou bush  ...  POINT Z (153.43610 -27.78778 0.00000)\n",
              "\n",
              "[2460 rows x 3 columns]"
            ]
          },
          "metadata": {
            "tags": []
          },
          "execution_count": 3
        }
      ]
    },
    {
      "cell_type": "code",
      "metadata": {
        "scrolled": true,
        "id": "OcfC896l0Opn",
        "colab": {
          "base_uri": "https://localhost:8080/",
          "height": 103
        },
        "outputId": "5c4d4716-da45-4be5-d273-c794cd7b97b9"
      },
      "source": [
        "#again showing the html string in 'Description'\n",
        "df['Description'][0]"
      ],
      "execution_count": null,
      "outputs": [
        {
          "output_type": "execute_result",
          "data": {
            "application/vnd.google.colaboratory.intrinsic+json": {
              "type": "string"
            },
            "text/plain": [
              "'<html xmlns:fo=\"http://www.w3.org/1999/XSL/Format\" xmlns:msxsl=\"urn:schemas-microsoft-com:xslt\"> <head> <META http-equiv=\"Content-Type\" content=\"text/html\"> <meta http-equiv=\"content-type\" content=\"text/html; charset=UTF-8\"> </head> <body style=\"margin:0px 0px 0px 0px;overflow:auto;background:#FFFFFF;\"> <table style=\"font-family:Arial,Verdana,Times;font-size:12px;text-align:left;width:100%;border-collapse:collapse;padding:3px 3px 3px 3px\"> <tr style=\"text-align:center;font-weight:bold;background:#9CBCE2\"> <td>Bitou bush</td> </tr> <tr> <td> <table style=\"font-family:Arial,Verdana,Times;font-size:12px;text-align:left;width:100%;border-spacing:0px; padding:3px 3px 3px 3px\"> <tr> <td>FID</td> <td>0</td> </tr> <tr bgcolor=\"#D4E4F3\"> <td>Activity</td> <td>Infestation</td> </tr> <tr> <td>ActivityDa</td> <td>1/03/2015</td> </tr> <tr bgcolor=\"#D4E4F3\"> <td>ComName</td> <td>Bitou bush</td> </tr> <tr> <td>MonYr</td> <td>2015-03</td> </tr> <tr bgcolor=\"#D4E4F3\"> <td>FinYr</td> <td>2014 - 2015</td> </tr> <tr> <td>Detection1</td> <td>&lt;Null&gt;</td> </tr> <tr bgcolor=\"#D4E4F3\"> <td>Date_S</td> <td>Jan15_Jun15</td> </tr> </table> </td> </tr> </table> </body> </html>'"
            ]
          },
          "metadata": {
            "tags": []
          },
          "execution_count": 4
        }
      ]
    },
    {
      "cell_type": "code",
      "metadata": {
        "id": "-lZZb5rN0Opp"
      },
      "source": [
        "# create new df for the parsing to append to\n",
        "\n",
        "desc_df = gpd.GeoDataFrame({ \n",
        " 'FID':[''],\n",
        " 'Activity':[''],\n",
        " 'ActivityDa':[''],\n",
        " 'ComName':[''],\n",
        " 'MonYr':[''],\n",
        " 'FinYr':[''],\n",
        " 'Detection1':[''],\n",
        " 'Date_S':['']\n",
        "})"
      ],
      "execution_count": null,
      "outputs": []
    },
    {
      "cell_type": "code",
      "metadata": {
        "id": "1fFKQ-hS0Opq"
      },
      "source": [
        "# this loop will interate to parse all in descriptions, take the usefull information and append to desc_df\n",
        "\n",
        "for string in df['Description']:\n",
        "    \n",
        "    s = pd.read_html(string)   #read string\n",
        "    s = s[1]                   #take just the html table (not the other  )\n",
        "    s = s.T                    #transpose\n",
        "    s.columns = s.iloc[0]      #assign the first row as the colum headers\n",
        "    \n",
        "    desc_df = desc_df.append(s.iloc[1])  #append only the values (keys are already provided above)\n",
        "    "
      ],
      "execution_count": null,
      "outputs": []
    },
    {
      "cell_type": "code",
      "metadata": {
        "scrolled": true,
        "id": "F0MdkkNJ0Opr",
        "colab": {
          "base_uri": "https://localhost:8080/",
          "height": 419
        },
        "outputId": "d89514f5-9e69-4f6a-cdc2-fbbcecb99f46"
      },
      "source": [
        "#a little more formatting and join back to original df\n",
        "\n",
        "desc_df = desc_df.drop(0)                  #not sure why the first row was blank\n",
        "desc_df.index = df.index                   #harmonaise the indexes\n",
        "desc_df = desc_df.drop(columns=['FID'])   \n",
        "\n",
        "df = pd.concat([df, desc_df], axis=1)\n",
        "\n",
        "df = df.drop(columns=['Description', 'Name'])\n",
        "\n",
        "df.to_csv('bitou.csv')\n",
        "\n",
        "df"
      ],
      "execution_count": null,
      "outputs": [
        {
          "output_type": "execute_result",
          "data": {
            "text/html": [
              "<div>\n",
              "<style scoped>\n",
              "    .dataframe tbody tr th:only-of-type {\n",
              "        vertical-align: middle;\n",
              "    }\n",
              "\n",
              "    .dataframe tbody tr th {\n",
              "        vertical-align: top;\n",
              "    }\n",
              "\n",
              "    .dataframe thead th {\n",
              "        text-align: right;\n",
              "    }\n",
              "</style>\n",
              "<table border=\"1\" class=\"dataframe\">\n",
              "  <thead>\n",
              "    <tr style=\"text-align: right;\">\n",
              "      <th></th>\n",
              "      <th>geometry</th>\n",
              "      <th>Activity</th>\n",
              "      <th>ActivityDa</th>\n",
              "      <th>ComName</th>\n",
              "      <th>MonYr</th>\n",
              "      <th>FinYr</th>\n",
              "      <th>Detection1</th>\n",
              "      <th>Date_S</th>\n",
              "    </tr>\n",
              "  </thead>\n",
              "  <tbody>\n",
              "    <tr>\n",
              "      <th>0</th>\n",
              "      <td>POINT Z (153.13481 -26.71795 0.00000)</td>\n",
              "      <td>Infestation</td>\n",
              "      <td>1/03/2015</td>\n",
              "      <td>Bitou bush</td>\n",
              "      <td>2015-03</td>\n",
              "      <td>2014 - 2015</td>\n",
              "      <td>&lt;Null&gt;</td>\n",
              "      <td>Jan15_Jun15</td>\n",
              "    </tr>\n",
              "    <tr>\n",
              "      <th>1</th>\n",
              "      <td>POINT Z (153.43067 -27.31563 0.00000)</td>\n",
              "      <td>Infestation</td>\n",
              "      <td>25/03/2015</td>\n",
              "      <td>Bitou bush</td>\n",
              "      <td>2015-03</td>\n",
              "      <td>2014 - 2015</td>\n",
              "      <td>&lt;Null&gt;</td>\n",
              "      <td>Jan15_Jun15</td>\n",
              "    </tr>\n",
              "    <tr>\n",
              "      <th>2</th>\n",
              "      <td>POINT Z (153.42508 -27.30358 0.00000)</td>\n",
              "      <td>Infestation</td>\n",
              "      <td>25/03/2015</td>\n",
              "      <td>Bitou bush</td>\n",
              "      <td>2015-03</td>\n",
              "      <td>2014 - 2015</td>\n",
              "      <td>&lt;Null&gt;</td>\n",
              "      <td>Jan15_Jun15</td>\n",
              "    </tr>\n",
              "    <tr>\n",
              "      <th>3</th>\n",
              "      <td>POINT Z (153.11057 -25.56516 0.00000)</td>\n",
              "      <td>Infestation</td>\n",
              "      <td>1/05/2015</td>\n",
              "      <td>Bitou bush</td>\n",
              "      <td>2015-05</td>\n",
              "      <td>2014 - 2015</td>\n",
              "      <td>&lt;Null&gt;</td>\n",
              "      <td>Jan15_Jun15</td>\n",
              "    </tr>\n",
              "    <tr>\n",
              "      <th>4</th>\n",
              "      <td>POINT Z (153.08553 -25.76300 0.00000)</td>\n",
              "      <td>Infestation</td>\n",
              "      <td>29/04/2015</td>\n",
              "      <td>Bitou bush</td>\n",
              "      <td>2015-04</td>\n",
              "      <td>2014 - 2015</td>\n",
              "      <td>&lt;Null&gt;</td>\n",
              "      <td>Jan15_Jun15</td>\n",
              "    </tr>\n",
              "    <tr>\n",
              "      <th>...</th>\n",
              "      <td>...</td>\n",
              "      <td>...</td>\n",
              "      <td>...</td>\n",
              "      <td>...</td>\n",
              "      <td>...</td>\n",
              "      <td>...</td>\n",
              "      <td>...</td>\n",
              "      <td>...</td>\n",
              "    </tr>\n",
              "    <tr>\n",
              "      <th>2455</th>\n",
              "      <td>POINT Z (153.43967 -27.76958 0.00000)</td>\n",
              "      <td>Survey</td>\n",
              "      <td>8/07/2020</td>\n",
              "      <td>Bitou bush</td>\n",
              "      <td>NaN</td>\n",
              "      <td>2019 - 2020</td>\n",
              "      <td>8/07/2020</td>\n",
              "      <td>Jan20 - Jun20</td>\n",
              "    </tr>\n",
              "    <tr>\n",
              "      <th>2456</th>\n",
              "      <td>POINT Z (153.43592 -27.78790 0.00000)</td>\n",
              "      <td>Survey</td>\n",
              "      <td>8/07/2020</td>\n",
              "      <td>Bitou bush</td>\n",
              "      <td>NaN</td>\n",
              "      <td>2019 - 2020</td>\n",
              "      <td>8/07/2020</td>\n",
              "      <td>Jan20 - Jun20</td>\n",
              "    </tr>\n",
              "    <tr>\n",
              "      <th>2457</th>\n",
              "      <td>POINT Z (153.43988 -27.77067 0.00000)</td>\n",
              "      <td>Survey</td>\n",
              "      <td>8/07/2020</td>\n",
              "      <td>Bitou bush</td>\n",
              "      <td>NaN</td>\n",
              "      <td>2019 - 2020</td>\n",
              "      <td>8/07/2020</td>\n",
              "      <td>Jan20 - Jun20</td>\n",
              "    </tr>\n",
              "    <tr>\n",
              "      <th>2458</th>\n",
              "      <td>POINT Z (153.44021 -27.77354 0.00000)</td>\n",
              "      <td>Survey</td>\n",
              "      <td>8/07/2020</td>\n",
              "      <td>Bitou bush</td>\n",
              "      <td>NaN</td>\n",
              "      <td>2019 - 2020</td>\n",
              "      <td>8/07/2020</td>\n",
              "      <td>Jan20 - Jun20</td>\n",
              "    </tr>\n",
              "    <tr>\n",
              "      <th>2459</th>\n",
              "      <td>POINT Z (153.43610 -27.78778 0.00000)</td>\n",
              "      <td>Survey</td>\n",
              "      <td>8/07/2020</td>\n",
              "      <td>Bitou bush</td>\n",
              "      <td>NaN</td>\n",
              "      <td>2019 - 2020</td>\n",
              "      <td>8/07/2020</td>\n",
              "      <td>Jan20 - Jun20</td>\n",
              "    </tr>\n",
              "  </tbody>\n",
              "</table>\n",
              "<p>2460 rows × 8 columns</p>\n",
              "</div>"
            ],
            "text/plain": [
              "                                   geometry  ...         Date_S\n",
              "0     POINT Z (153.13481 -26.71795 0.00000)  ...    Jan15_Jun15\n",
              "1     POINT Z (153.43067 -27.31563 0.00000)  ...    Jan15_Jun15\n",
              "2     POINT Z (153.42508 -27.30358 0.00000)  ...    Jan15_Jun15\n",
              "3     POINT Z (153.11057 -25.56516 0.00000)  ...    Jan15_Jun15\n",
              "4     POINT Z (153.08553 -25.76300 0.00000)  ...    Jan15_Jun15\n",
              "...                                     ...  ...            ...\n",
              "2455  POINT Z (153.43967 -27.76958 0.00000)  ...  Jan20 - Jun20\n",
              "2456  POINT Z (153.43592 -27.78790 0.00000)  ...  Jan20 - Jun20\n",
              "2457  POINT Z (153.43988 -27.77067 0.00000)  ...  Jan20 - Jun20\n",
              "2458  POINT Z (153.44021 -27.77354 0.00000)  ...  Jan20 - Jun20\n",
              "2459  POINT Z (153.43610 -27.78778 0.00000)  ...  Jan20 - Jun20\n",
              "\n",
              "[2460 rows x 8 columns]"
            ]
          },
          "metadata": {
            "tags": []
          },
          "execution_count": 8
        }
      ]
    }
  ]
}